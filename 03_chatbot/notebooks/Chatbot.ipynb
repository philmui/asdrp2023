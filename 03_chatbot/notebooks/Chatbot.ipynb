{
 "cells": [
  {
   "cell_type": "code",
   "execution_count": 1,
   "metadata": {},
   "outputs": [],
   "source": [
    "import asyncio\n",
    "import os\n",
    "import openai\n",
    "from langchain.prompts import (\n",
    "    PromptTemplate,\n",
    ")"
   ]
  },
  {
   "cell_type": "code",
   "execution_count": 2,
   "metadata": {},
   "outputs": [],
   "source": [
    "from langchain.llms import OpenAI\n",
    "from dotenv import load_dotenv, find_dotenv\n",
    "\n",
    "load_dotenv(find_dotenv(\".env\"))\n",
    "# alternative: \"gpt-4-0613\"\n",
    "MODEL_NAME = \"gpt-3.5-turbo-0613\"\n",
    "OPENAI_API_KEY = os.environ[\"OPENAI_API_KEY\"]"
   ]
  },
  {
   "cell_type": "code",
   "execution_count": 3,
   "metadata": {},
   "outputs": [],
   "source": [
    "system_prompt=\"\"\"\n",
    "You are a helpful assistant that truthfully respond to a user's query or question.\n",
    "\n",
    "If you don't know the answer, simply answer: I don't know. \n",
    "Most importantly, do not respond with false information.\n",
    "\"\"\""
   ]
  },
  {
   "cell_type": "code",
   "execution_count": 5,
   "metadata": {},
   "outputs": [],
   "source": [
    "query=\"Why is the sky blue?\"\n",
    "messages = [\n",
    "    {'role':'system', 'content':system_prompt},\n",
    "    {'role':'user', 'content':query},]\n",
    "response_text = \"\""
   ]
  },
  {
   "cell_type": "code",
   "execution_count": 6,
   "metadata": {},
   "outputs": [],
   "source": [
    "try:\n",
    "    response = openai.ChatCompletion.create(\n",
    "        model=MODEL_NAME,\n",
    "        messages=messages\n",
    "    )\n",
    "    response_text=response[\"choices\"][0][\"message\"]\n",
    "except Exception as e:\n",
    "    response_text=\"no response\"\n"
   ]
  },
  {
   "cell_type": "code",
   "execution_count": 10,
   "metadata": {},
   "outputs": [
    {
     "name": "stdout",
     "output_type": "stream",
     "text": [
      "('The sky appears blue due to a phenomenon known as Rayleigh scattering. When '\n",
      " \"sunlight enters Earth's atmosphere, it interacts with molecules and \"\n",
      " 'particles, such as nitrogen and oxygen. These smaller particles scatter '\n",
      " 'shorter wavelengths of light, such as blue and violet, more than longer '\n",
      " 'wavelengths like red and orange. As a result, our eyes perceive the '\n",
      " 'scattered blue light, making the sky appear blue.')\n"
     ]
    }
   ],
   "source": [
    "from pprint import pprint\n",
    "\n",
    "pprint(response_text[\"content\"])"
   ]
  }
 ],
 "metadata": {
  "kernelspec": {
   "display_name": "chainlit",
   "language": "python",
   "name": "python3"
  },
  "language_info": {
   "codemirror_mode": {
    "name": "ipython",
    "version": 3
   },
   "file_extension": ".py",
   "mimetype": "text/x-python",
   "name": "python",
   "nbconvert_exporter": "python",
   "pygments_lexer": "ipython3",
   "version": "3.9.16"
  },
  "orig_nbformat": 4
 },
 "nbformat": 4,
 "nbformat_minor": 2
}
