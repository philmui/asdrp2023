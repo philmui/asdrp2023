{
  "nbformat": 4,
  "nbformat_minor": 5,
  "metadata": {
    "noteable-chatgpt": {
      "create_notebook": {
        "openai_conversation_id": "2235e497-6f3a-599b-8afe-2ce070583977",
        "openai_ephemeral_user_id": "67214b7f-b03a-5081-9a24-5910feab26bc",
        "openai_subdivision1_iso_code": "US-CA"
      }
    },
    "noteable": {
      "last_transaction_id": "4e82fc50-dc76-4f12-a70b-dfdd2212f71f"
    },
    "selected_hardware_size": "small"
  },
  "cells": [
    {
      "id": "9802ef77-34b8-431f-925b-04884ad8184d",
      "cell_type": "code",
      "metadata": {
        "jupyter": {
          "outputs_hidden": false,
          "source_hidden": false
        },
        "noteable": {
          "cell_type": "code"
        }
      },
      "execution_count": null,
      "source": "",
      "outputs": []
    },
    {
      "id": "1701ae83-ac94-48e6-9196-20ccf162ce81",
      "cell_type": "code",
      "metadata": {
        "noteable": {
          "cell_type": "code",
          "output_collection_id": "892b0e66-2b5e-471a-a760-f247f5fb0f95"
        },
        "ExecuteTime": {
          "end_time": "2023-06-26T02:59:09.653033+00:00",
          "start_time": "2023-06-26T02:59:09.421437+00:00"
        },
        "datalink": {
          "c385e3a8-557d-4ae1-a36b-c35f96ca7a55": {
            "applied_filters": [],
            "dataframe_info": {
              "default_index_used": true,
              "orig_num_cols": 10,
              "orig_num_rows": 5,
              "orig_size_bytes": 440,
              "truncated_num_cols": 10,
              "truncated_num_rows": 5,
              "truncated_size_bytes": 440,
              "truncated_string_columns": []
            },
            "display_id": "c385e3a8-557d-4ae1-a36b-c35f96ca7a55",
            "dx_settings": {
              "ALLOW_NOTEABLE_ATTRS": true,
              "COLUMN_SAMPLING_METHOD": "outer",
              "DB_LOCATION": ":memory:",
              "DEV_MODE": false,
              "DISPLAY_MAX_COLUMNS": 100,
              "DISPLAY_MAX_ROWS": 50000,
              "DISPLAY_MODE": "simple",
              "ENABLE_ASSIGNMENT": true,
              "ENABLE_DATALINK": true,
              "FLATTEN_COLUMN_VALUES": true,
              "FLATTEN_INDEX_VALUES": false,
              "GENERATE_DEX_METADATA": false,
              "HTML_TABLE_SCHEMA": false,
              "LOG_LEVEL": 30,
              "MAX_RENDER_SIZE_BYTES": 104857600,
              "MAX_STRING_LENGTH": 250,
              "NUM_PAST_SAMPLES_TRACKED": 3,
              "RANDOM_STATE": 12648430,
              "RESET_INDEX_VALUES": false,
              "ROW_SAMPLING_METHOD": "random",
              "SAMPLING_FACTOR": 0.1,
              "SAMPLING_METHOD": "random",
              "STRINGIFY_COLUMN_VALUES": true,
              "STRINGIFY_INDEX_VALUES": false
            },
            "sample_history": [],
            "sampling_time": "2023-06-26T02:59:09.495230",
            "user_variable_name": null,
            "variable_name": "unk_dataframe_867e399cda1448ccbea8fa25491f81be"
          }
        },
        "scrolled": false
      },
      "execution_count": null,
      "source": "import pandas as pd\ndf = pd.read_csv('ca_housing.csv')\ndf.head()",
      "outputs": []
    },
    {
      "id": "4d495b58-caae-47fa-8a31-99c63451d283",
      "cell_type": "code",
      "metadata": {
        "noteable": {
          "cell_type": "code",
          "output_collection_id": "e9443766-b68f-4195-838c-eb0ae2932eee"
        },
        "ExecuteTime": {
          "end_time": "2023-06-26T03:01:38.484598+00:00",
          "start_time": "2023-06-26T03:01:29.479305+00:00"
        }
      },
      "execution_count": null,
      "source": "import seaborn as sns\nimport matplotlib.pyplot as plt\n\n# Pairplot for first few columns to keep the plot readable\nsns.pairplot(df[df.columns[:5]])\nplt.show()\n\n# Correlation heatmap\nplt.figure(figsize=(10, 8))\nsns.heatmap(df.corr(), annot=True, cmap='coolwarm')\nplt.show()",
      "outputs": []
    },
    {
      "id": "d217a04b-8c3a-4d71-a731-d8ab312db739",
      "cell_type": "code",
      "metadata": {
        "noteable": {
          "cell_type": "code",
          "output_collection_id": "e9644b67-c8bf-4cb4-9437-53978d78766c"
        },
        "ExecuteTime": {
          "end_time": "2023-06-26T03:02:01.801044+00:00",
          "start_time": "2023-06-26T03:02:01.614482+00:00"
        },
        "datalink": {
          "9287fd03-ce10-4019-adf9-b33e0f0606a3": {
            "applied_filters": [],
            "dataframe_info": {
              "default_index_used": false,
              "orig_num_cols": 1,
              "orig_num_rows": 10,
              "orig_size_bytes": 160,
              "truncated_num_cols": 1,
              "truncated_num_rows": 10,
              "truncated_size_bytes": 160,
              "truncated_string_columns": []
            },
            "display_id": "9287fd03-ce10-4019-adf9-b33e0f0606a3",
            "dx_settings": {
              "ALLOW_NOTEABLE_ATTRS": true,
              "COLUMN_SAMPLING_METHOD": "outer",
              "DB_LOCATION": ":memory:",
              "DEV_MODE": false,
              "DISPLAY_MAX_COLUMNS": 100,
              "DISPLAY_MAX_ROWS": 50000,
              "DISPLAY_MODE": "simple",
              "ENABLE_ASSIGNMENT": true,
              "ENABLE_DATALINK": true,
              "FLATTEN_COLUMN_VALUES": true,
              "FLATTEN_INDEX_VALUES": false,
              "GENERATE_DEX_METADATA": false,
              "HTML_TABLE_SCHEMA": false,
              "LOG_LEVEL": 30,
              "MAX_RENDER_SIZE_BYTES": 104857600,
              "MAX_STRING_LENGTH": 250,
              "NUM_PAST_SAMPLES_TRACKED": 3,
              "RANDOM_STATE": 12648430,
              "RESET_INDEX_VALUES": false,
              "ROW_SAMPLING_METHOD": "random",
              "SAMPLING_FACTOR": 0.1,
              "SAMPLING_METHOD": "random",
              "STRINGIFY_COLUMN_VALUES": true,
              "STRINGIFY_INDEX_VALUES": false
            },
            "sample_history": [],
            "sampling_time": "2023-06-26T03:02:01.645409",
            "user_variable_name": null,
            "variable_name": "unk_dataframe_1e0e2c8a2b4f47bc899580f743c4b973"
          }
        }
      },
      "execution_count": null,
      "source": "# Checking for missing values\nmissing_values = df.isnull().sum()\nmissing_values",
      "outputs": []
    },
    {
      "id": "9e34e1ab-f922-40ab-a448-28ec6ab3e4fa",
      "cell_type": "code",
      "metadata": {
        "noteable": {
          "cell_type": "code",
          "output_collection_id": "67c0d7c3-094b-45a8-9e64-779ef3dd5397"
        },
        "ExecuteTime": {
          "end_time": "2023-06-26T03:02:32.766620+00:00",
          "start_time": "2023-06-26T03:02:32.576155+00:00"
        },
        "datalink": {
          "2748296b-dcf5-4c75-86a6-a91a6d5ea8b6": {
            "applied_filters": [],
            "dataframe_info": {
              "default_index_used": false,
              "orig_num_cols": 1,
              "orig_num_rows": 10,
              "orig_size_bytes": 160,
              "truncated_num_cols": 1,
              "truncated_num_rows": 10,
              "truncated_size_bytes": 160,
              "truncated_string_columns": []
            },
            "display_id": "2748296b-dcf5-4c75-86a6-a91a6d5ea8b6",
            "dx_settings": {
              "ALLOW_NOTEABLE_ATTRS": true,
              "COLUMN_SAMPLING_METHOD": "outer",
              "DB_LOCATION": ":memory:",
              "DEV_MODE": false,
              "DISPLAY_MAX_COLUMNS": 100,
              "DISPLAY_MAX_ROWS": 50000,
              "DISPLAY_MODE": "simple",
              "ENABLE_ASSIGNMENT": true,
              "ENABLE_DATALINK": true,
              "FLATTEN_COLUMN_VALUES": true,
              "FLATTEN_INDEX_VALUES": false,
              "GENERATE_DEX_METADATA": false,
              "HTML_TABLE_SCHEMA": false,
              "LOG_LEVEL": 30,
              "MAX_RENDER_SIZE_BYTES": 104857600,
              "MAX_STRING_LENGTH": 250,
              "NUM_PAST_SAMPLES_TRACKED": 3,
              "RANDOM_STATE": 12648430,
              "RESET_INDEX_VALUES": false,
              "ROW_SAMPLING_METHOD": "random",
              "SAMPLING_FACTOR": 0.1,
              "SAMPLING_METHOD": "random",
              "STRINGIFY_COLUMN_VALUES": true,
              "STRINGIFY_INDEX_VALUES": false
            },
            "sample_history": [],
            "sampling_time": "2023-06-26T03:02:32.610216",
            "user_variable_name": null,
            "variable_name": "unk_dataframe_4cd1bd89a8ec4a4bb50a316219e36e20"
          }
        }
      },
      "execution_count": null,
      "source": "# Filling missing values with median\ndf['total_bedrooms'].fillna(df['total_bedrooms'].median(), inplace=True)\n\n# Checking for missing values again\nmissing_values = df.isnull().sum()\nmissing_values",
      "outputs": []
    },
    {
      "id": "a696b40e-8cb0-44c4-a85b-b1e82bbb28a9",
      "cell_type": "code",
      "metadata": {
        "noteable": {
          "cell_type": "code",
          "output_collection_id": "80f143b0-0fac-4049-84fb-b36214a2ecf3"
        },
        "ExecuteTime": {
          "end_time": "2023-06-26T03:03:10.809151+00:00",
          "start_time": "2023-06-26T03:03:10.621960+00:00"
        }
      },
      "execution_count": null,
      "source": "# Handling outliers using the IQR method\nQ1 = df.quantile(0.25)\nQ3 = df.quantile(0.75)\nIQR = Q3 - Q1\n\n# Defining outliers\noutliers = (df < (Q1 - 1.5 * IQR)) | (df > (Q3 + 1.5 * IQR))\n\n# Removing outliers\ndf_out = df[~outliers.any(axis=1)]\n\n# Checking the shape of the data before and after outlier removal\ndf.shape, df_out.shape",
      "outputs": []
    },
    {
      "id": "7f5249c5-f990-4c38-b2f7-5c53b3d35675",
      "cell_type": "code",
      "metadata": {
        "noteable": {
          "cell_type": "code",
          "output_collection_id": "cc0d1418-04a0-4cb1-8cb6-45e771b8311e"
        },
        "ExecuteTime": {
          "end_time": "2023-06-26T03:03:46.688204+00:00",
          "start_time": "2023-06-26T03:03:46.186260+00:00"
        },
        "datalink": {
          "88c46c69-4726-4bcc-97f5-8c0b68c1d1d8": {
            "applied_filters": [],
            "dataframe_info": {
              "default_index_used": true,
              "orig_num_cols": 16,
              "orig_num_rows": 5,
              "orig_size_bytes": 505,
              "truncated_num_cols": 16,
              "truncated_num_rows": 5,
              "truncated_size_bytes": 505,
              "truncated_string_columns": []
            },
            "display_id": "88c46c69-4726-4bcc-97f5-8c0b68c1d1d8",
            "dx_settings": {
              "ALLOW_NOTEABLE_ATTRS": true,
              "COLUMN_SAMPLING_METHOD": "outer",
              "DB_LOCATION": ":memory:",
              "DEV_MODE": false,
              "DISPLAY_MAX_COLUMNS": 100,
              "DISPLAY_MAX_ROWS": 50000,
              "DISPLAY_MODE": "simple",
              "ENABLE_ASSIGNMENT": true,
              "ENABLE_DATALINK": true,
              "FLATTEN_COLUMN_VALUES": true,
              "FLATTEN_INDEX_VALUES": false,
              "GENERATE_DEX_METADATA": false,
              "HTML_TABLE_SCHEMA": false,
              "LOG_LEVEL": 30,
              "MAX_RENDER_SIZE_BYTES": 104857600,
              "MAX_STRING_LENGTH": 250,
              "NUM_PAST_SAMPLES_TRACKED": 3,
              "RANDOM_STATE": 12648430,
              "RESET_INDEX_VALUES": false,
              "ROW_SAMPLING_METHOD": "random",
              "SAMPLING_FACTOR": 0.1,
              "SAMPLING_METHOD": "random",
              "STRINGIFY_COLUMN_VALUES": true,
              "STRINGIFY_INDEX_VALUES": false
            },
            "sample_history": [],
            "sampling_time": "2023-06-26T03:03:46.529142",
            "user_variable_name": null,
            "variable_name": "unk_dataframe_65150b87e4944ca28cdd4d42d9b8cb7f"
          }
        }
      },
      "execution_count": null,
      "source": "from sklearn.preprocessing import StandardScaler\n\n# Standardizing numeric columns\nnumeric_cols = df_out.select_dtypes(include=['float64', 'int64']).columns\nscaler = StandardScaler()\ndf_out[numeric_cols] = scaler.fit_transform(df_out[numeric_cols])\n\n# Creating new features\ndf_out['rooms_per_bedroom'] = df_out['total_rooms'] / df_out['total_bedrooms']\ndf_out['population_per_household'] = df_out['population'] / df_out['households']\n\n# One-hot encoding categorical variables\ndf_out = pd.get_dummies(df_out)\n\ndf_out.head()",
      "outputs": []
    },
    {
      "id": "ed87c954-c7d5-410c-baa8-357cafb744b8",
      "cell_type": "code",
      "metadata": {
        "noteable": {
          "cell_type": "code",
          "output_collection_id": "fdb657d6-a822-4548-b5bc-aef8c673e6c6"
        },
        "ExecuteTime": null
      },
      "execution_count": null,
      "source": "from sklearn.model_selection import cross_val_score\nfrom sklearn.linear_model import LinearRegression\nfrom sklearn.tree import DecisionTreeRegressor\nfrom sklearn.ensemble import RandomForestRegressor\nfrom sklearn.svm import SVR\n\n# Splitting the data into features (X) and target (y)\nX = df_out.drop('median_house_value', axis=1)\ny = df_out['median_house_value']\n\n# Defining the models\nmodels = [\n    ('Linear Regression', LinearRegression()),\n    ('Decision Tree', DecisionTreeRegressor()),\n    ('Random Forest', RandomForestRegressor()),\n    ('Support Vector Machine', SVR())\n]\n\n# Evaluating each model with 10-fold cross-validation\nfor name, model in models:\n    cv_scores = cross_val_score(model, X, y, cv=10)\n    print(f'{name}: {cv_scores.mean():.4f} (+/- {cv_scores.std() * 2:.4f})')",
      "outputs": []
    }
  ]
}