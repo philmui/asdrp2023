{
 "cells": [
  {
   "attachments": {},
   "cell_type": "markdown",
   "metadata": {},
   "source": [
    "# California Housing"
   ]
  },
  {
   "attachments": {},
   "cell_type": "markdown",
   "metadata": {},
   "source": [
    "Much of data analysis with ML is in the data preparation step: building monitoring tools, setting up human evaluation pipelines, and automating regular model training. The machine learning algorithms are important, of course, but it is probably preferable to be comfortable with the overall process and know three or four algorithms well rather than to spend all your time exploring advanced algorithms.\n",
    "\n",
    "Let's analyze how housing prices across California varies according to a number of factors."
   ]
  },
  {
   "cell_type": "code",
   "execution_count": null,
   "metadata": {},
   "outputs": [],
   "source": [
    "import numpy as np\n",
    "import pandas as pd\n",
    "from pathlib import Path\n",
    "\n",
    "import warnings\n",
    "warnings.filterwarnings(\"ignore\", category=FutureWarning)"
   ]
  },
  {
   "attachments": {},
   "cell_type": "markdown",
   "metadata": {},
   "source": [
    "## Getting Data"
   ]
  },
  {
   "cell_type": "code",
   "execution_count": null,
   "metadata": {},
   "outputs": [],
   "source": [
    "HOUSING_FILE = \"../data/ca_housing.csv\"\n",
    "if not Path(HOUSING_FILE).exists():\n",
    "    print(f\"ERROR: {HOUSING_FILE} does not exist\")\n",
    "else:\n",
    "    raw = pd.read_csv(HOUSING_FILE)\n",
    "    \n",
    "raw.shape"
   ]
  },
  {
   "attachments": {},
   "cell_type": "markdown",
   "metadata": {},
   "source": [
    "## Checking out Data"
   ]
  },
  {
   "cell_type": "code",
   "execution_count": null,
   "metadata": {},
   "outputs": [],
   "source": [
    "raw.head(5)"
   ]
  },
  {
   "cell_type": "code",
   "execution_count": null,
   "metadata": {},
   "outputs": [],
   "source": [
    "raw.info()"
   ]
  },
  {
   "cell_type": "code",
   "execution_count": null,
   "metadata": {},
   "outputs": [],
   "source": [
    "raw.describe()"
   ]
  },
  {
   "cell_type": "code",
   "execution_count": null,
   "metadata": {},
   "outputs": [],
   "source": [
    "raw.value_counts(\"ocean_proximity\")"
   ]
  },
  {
   "attachments": {},
   "cell_type": "markdown",
   "metadata": {},
   "source": [
    "## Data Visualization"
   ]
  },
  {
   "cell_type": "code",
   "execution_count": null,
   "metadata": {},
   "outputs": [],
   "source": [
    "import matplotlib.pyplot as plt\n",
    "\n",
    "def saveImage(filename, format=\"png\", dpi=300):\n",
    "    plt.savefig(f\"ca_housing_histograms.{format}\", format=format, dpi=dpi)\n",
    "    \n",
    "plt.rc('font', size=12)\n",
    "plt.rc('axes', labelsize=12, titlesize=12)\n",
    "plt.rc('legend', fontsize=12)\n",
    "plt.rc('xtick', labelsize=10)\n",
    "plt.rc('ytick', labelsize=10) "
   ]
  },
  {
   "cell_type": "code",
   "execution_count": null,
   "metadata": {},
   "outputs": [],
   "source": [
    "housing = raw.copy()\n",
    "\n",
    "housing.hist(bins=50, figsize=(12, 10))\n",
    "\n",
    "# saving the image to a file\n",
    "saveImage(f\"ca_housing_histograms\")\n",
    "plt.show()"
   ]
  },
  {
   "cell_type": "code",
   "execution_count": null,
   "metadata": {},
   "outputs": [],
   "source": [
    "housing.plot(kind=\"scatter\", \n",
    "             x=\"longitude\", \n",
    "             y=\"latitude\", \n",
    "             grid=True)\n",
    "saveImage(f\"ca_housing_map1\")\n",
    "plt.show()"
   ]
  },
  {
   "cell_type": "code",
   "execution_count": null,
   "metadata": {},
   "outputs": [],
   "source": [
    "housing.plot(kind=\"scatter\", \n",
    "             x=\"longitude\", \n",
    "             y=\"latitude\", \n",
    "             grid=True, \n",
    "             alpha=0.3)\n",
    "saveImage(f\"ca_housing_map2\")\n",
    "plt.show()"
   ]
  },
  {
   "attachments": {},
   "cell_type": "markdown",
   "metadata": {},
   "source": [
    "`matplotlib` ColorMap: [link](https://matplotlib.org/stable/tutorials/colors/colormaps.html) main choices:\n",
    "- rainbow\n",
    "- jet\n",
    "- turbo\n",
    "\n",
    "DataFrame parameters:\n",
    "- \"kind\" : type of graph\n",
    "- \"s\" : size of bubble\n",
    "- \"c\" : color variable"
   ]
  },
  {
   "cell_type": "code",
   "execution_count": null,
   "metadata": {},
   "outputs": [],
   "source": [
    "housing.columns"
   ]
  },
  {
   "cell_type": "code",
   "execution_count": null,
   "metadata": {},
   "outputs": [],
   "source": [
    "housing.plot(kind=\"scatter\", \n",
    "             x=\"longitude\", \n",
    "             y=\"latitude\", \n",
    "             grid=True,\n",
    "             s=housing[\"population\"] / 100, \n",
    "             label=\"population\",\n",
    "             c=\"median_house_value\", \n",
    "             cmap=\"turbo\", \n",
    "             colorbar=True,\n",
    "             legend=True, \n",
    "             figsize=(10, 7))\n",
    "saveImage(\"ca_housing_map3\")  # extra code\n",
    "plt.show()"
   ]
  },
  {
   "attachments": {},
   "cell_type": "markdown",
   "metadata": {},
   "source": [
    "## Stratified Sampling\n",
    "\n",
    "Stratified random sampling is a technique used to ensure that the training and test datasets represent the overall population. This technique is especially important when you're dealing with an imbalanced dataset, or when the dataset's categorical variables have different levels with varying frequencies.\n",
    "\n",
    "In a stratified random sample, each subgroup within the overall population is adequately represented within the whole sample. Each subgroup is called a stratum, and stratified random sampling represents these strata well.\n",
    "\n",
    "Let's say you've talked with some professionals and they've explained that the middle (or median) income level is really important for predicting the average price of houses. You would want to make sure that your test data represents the different ranges of income in all your information.\n",
    "\n",
    "Since the median income is just a plain number and could be anything, we first need to create income categories. Imagine we look at our data's median incomes. You'll notice that most of the median income levels are bunched up between $15,000 to $60,000. But, some median incomes are much higher than that.\n",
    "\n",
    "To get a good estimate of the importance of each income level (or stratum), we need to have enough data for each level. This means we shouldn't have too many different income categories, and each category should include a good amount of data.\n",
    "\n",
    "So, how can we do this? Well, we can use something called the pd.cut() function to make an income category with five groups (numbered from 1 to 5). The first group ranges from 0 to 1.5 (or less than $15,000), the second group from 1.5 to 3, and so on. This way, we can ensure each group has enough data and isn't too specific."
   ]
  },
  {
   "cell_type": "code",
   "execution_count": null,
   "metadata": {},
   "outputs": [],
   "source": [
    "pd.options.mode.chained_assignment = None  # default='warn'\n",
    "housing[\"income_cat\"] = pd.cut(housing[\"median_income\"],\n",
    "                               bins=[0., 1.5, 3.0, 4.5, 6., np.inf],\n",
    "                               labels=[1, 2, 3, 4, 5])"
   ]
  },
  {
   "cell_type": "code",
   "execution_count": null,
   "metadata": {},
   "outputs": [],
   "source": [
    "housing['income_cat'].value_counts().sort_index()"
   ]
  },
  {
   "cell_type": "code",
   "execution_count": null,
   "metadata": {},
   "outputs": [],
   "source": [
    "housing[\"income_cat\"].value_counts().sort_index().plot.bar(rot=0, grid=True)\n",
    "plt.xlabel(\"Income category\")\n",
    "plt.ylabel(\"Number of districts\")\n",
    "plt.show()\n"
   ]
  },
  {
   "cell_type": "code",
   "execution_count": null,
   "metadata": {},
   "outputs": [],
   "source": [
    "from sklearn.model_selection import StratifiedShuffleSplit"
   ]
  },
  {
   "attachments": {},
   "cell_type": "markdown",
   "metadata": {},
   "source": [
    "Scikit-learn provides several functions to split datasets, such as train_test_split(). "
   ]
  },
  {
   "cell_type": "code",
   "execution_count": null,
   "metadata": {},
   "outputs": [],
   "source": [
    "from sklearn.model_selection import train_test_split"
   ]
  },
  {
   "cell_type": "code",
   "execution_count": null,
   "metadata": {},
   "outputs": [],
   "source": [
    "housing.columns"
   ]
  },
  {
   "cell_type": "code",
   "execution_count": null,
   "metadata": {},
   "outputs": [],
   "source": [
    "strat_train_set, strat_test_set = train_test_split(\n",
    "    housing, \n",
    "    test_size=0.2, \n",
    "    stratify=housing[\"income_cat\"], \n",
    "    random_state=1)"
   ]
  },
  {
   "cell_type": "code",
   "execution_count": null,
   "metadata": {},
   "outputs": [],
   "source": [
    "strat_test_set[\"income_cat\"].value_counts() / len(strat_test_set)"
   ]
  },
  {
   "cell_type": "code",
   "execution_count": null,
   "metadata": {},
   "outputs": [],
   "source": [
    "# random train_test split\n",
    "rand_train_set, rand_test_set = train_test_split(\n",
    "    housing, \n",
    "    test_size=0.2, \n",
    "    random_state=1\n",
    ")"
   ]
  },
  {
   "cell_type": "code",
   "execution_count": null,
   "metadata": {},
   "outputs": [],
   "source": [
    "# comparing error differences for random vs stratified sampling\n",
    "\n",
    "def cat_proportions(df, cat):\n",
    "    return df[cat].value_counts() / len(df)\n",
    "\n",
    "compare_df = pd.DataFrame({\n",
    "    \"Target %\": cat_proportions(housing, \"income_cat\"),\n",
    "    \"Random %\": cat_proportions(rand_test_set, \"income_cat\"),\n",
    "    \"Stratified %\": cat_proportions(strat_test_set, \"income_cat\"),\n",
    "}).sort_index()\n",
    "compare_df.index.name = \"Income Category\"\n",
    "(compare_df*100).round(2)\n"
   ]
  },
  {
   "cell_type": "code",
   "execution_count": null,
   "metadata": {},
   "outputs": [],
   "source": [
    "# after creating the stratified samples, we can remove the \"income_cat\"\n",
    "\n",
    "for s in (strat_train_set, strat_test_set):\n",
    "    s.drop(\"income_cat\", axis=1, inplace=True)"
   ]
  },
  {
   "cell_type": "code",
   "execution_count": null,
   "metadata": {},
   "outputs": [],
   "source": []
  },
  {
   "cell_type": "code",
   "execution_count": null,
   "metadata": {},
   "outputs": [],
   "source": []
  },
  {
   "cell_type": "code",
   "execution_count": null,
   "metadata": {},
   "outputs": [],
   "source": []
  },
  {
   "cell_type": "code",
   "execution_count": null,
   "metadata": {},
   "outputs": [],
   "source": []
  },
  {
   "cell_type": "code",
   "execution_count": null,
   "metadata": {},
   "outputs": [],
   "source": []
  },
  {
   "attachments": {},
   "cell_type": "markdown",
   "metadata": {},
   "source": []
  }
 ],
 "metadata": {
  "kernelspec": {
   "display_name": "asdrp",
   "language": "python",
   "name": "python3"
  },
  "language_info": {
   "codemirror_mode": {
    "name": "ipython",
    "version": 3
   },
   "file_extension": ".py",
   "mimetype": "text/x-python",
   "name": "python",
   "nbconvert_exporter": "python",
   "pygments_lexer": "ipython3",
   "version": "3.9.16"
  },
  "orig_nbformat": 4
 },
 "nbformat": 4,
 "nbformat_minor": 2
}
