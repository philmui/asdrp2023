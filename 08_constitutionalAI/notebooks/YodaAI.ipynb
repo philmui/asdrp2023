{
 "cells": [
  {
   "cell_type": "markdown",
   "metadata": {},
   "source": [
    "# Master Yoda Constitution"
   ]
  },
  {
   "cell_type": "code",
   "execution_count": null,
   "metadata": {},
   "outputs": [],
   "source": [
    "from langchain.llms import OpenAI\n",
    "from langchain.prompts import PromptTemplate\n",
    "from langchain.chains.llm import LLMChain\n",
    "from langchain.chains.constitutional_ai.base import ConstitutionalChain, ConstitutionalPrinciple"
   ]
  },
  {
   "cell_type": "code",
   "execution_count": null,
   "metadata": {},
   "outputs": [],
   "source": [
    "master_yoda_principle = ConstitutionalPrinciple(\n",
    "    name='Master Yoda Principle',\n",
    "    critique_request='Identify specific ways in which the model\\'s response is not in the style of Master Yoda from Star Wars.',\n",
    "    revision_request='Please rewrite the model response to be in the witty style of Master Yoda from Star Wars using his teachings and wisdom.',\n",
    ")"
   ]
  },
  {
   "cell_type": "code",
   "execution_count": null,
   "metadata": {},
   "outputs": [],
   "source": [
    "yoda_prompt = PromptTemplate(\n",
    "    template=\"\"\"You are Master Yoda from Star Wars. \n",
    "You talk with the witty style of Master Yoda from Star Wars, immitating his teachings and wisdom.\n",
    "\n",
    "Question: {question}\n",
    "\n",
    "Your answer:\"\"\",\n",
    "    input_variables=[\"question\"],\n",
    ")"
   ]
  },
  {
   "cell_type": "code",
   "execution_count": null,
   "metadata": {},
   "outputs": [],
   "source": [
    "llm = OpenAI(temperature=0)\n",
    "yoda_chain = LLMChain(llm=llm, prompt=yoda_prompt)"
   ]
  },
  {
   "cell_type": "code",
   "execution_count": null,
   "metadata": {},
   "outputs": [],
   "source": [
    "yoda_chain = ConstitutionalChain.from_llm(\n",
    "    chain=yoda_chain,\n",
    "    constitutional_principles=[master_yoda_principle],\n",
    "    llm=llm,\n",
    "    verbose=True,\n",
    ")"
   ]
  },
  {
   "cell_type": "code",
   "execution_count": null,
   "metadata": {},
   "outputs": [],
   "source": [
    "query = \"Why are all lawyers male?\"\n",
    "response = yoda_chain.run(query)\n",
    "response"
   ]
  },
  {
   "cell_type": "code",
   "execution_count": null,
   "metadata": {},
   "outputs": [],
   "source": []
  }
 ],
 "metadata": {
  "kernelspec": {
   "display_name": "asdrp",
   "language": "python",
   "name": "python3"
  },
  "language_info": {
   "codemirror_mode": {
    "name": "ipython",
    "version": 3
   },
   "file_extension": ".py",
   "mimetype": "text/x-python",
   "name": "python",
   "nbconvert_exporter": "python",
   "pygments_lexer": "ipython3",
   "version": "3.9.16"
  },
  "orig_nbformat": 4
 },
 "nbformat": 4,
 "nbformat_minor": 2
}
