{
 "cells": [
  {
   "cell_type": "code",
   "execution_count": 1,
   "metadata": {},
   "outputs": [
    {
     "name": "stderr",
     "output_type": "stream",
     "text": [
      "/Users/anaconda3/envs/asdrp/lib/python3.9/site-packages/tqdm/auto.py:21: TqdmWarning: IProgress not found. Please update jupyter and ipywidgets. See https://ipywidgets.readthedocs.io/en/stable/user_install.html\n",
      "  from .autonotebook import tqdm as notebook_tqdm\n"
     ]
    }
   ],
   "source": [
    "from transformers import pipeline"
   ]
  },
  {
   "attachments": {},
   "cell_type": "markdown",
   "metadata": {},
   "source": [
    "## Sentiment Analysis"
   ]
  },
  {
   "cell_type": "code",
   "execution_count": 2,
   "metadata": {},
   "outputs": [],
   "source": [
    "SENTIMENT_MODEL = \"distilbert-base-uncased-finetuned-sst-2-english\""
   ]
  },
  {
   "cell_type": "code",
   "execution_count": 3,
   "metadata": {},
   "outputs": [
    {
     "name": "stderr",
     "output_type": "stream",
     "text": [
      "Xformers is not installed correctly. If you want to use memory_efficient_attention to accelerate training use the following command to install Xformers\n",
      "pip install xformers.\n"
     ]
    }
   ],
   "source": [
    "analyzer = pipeline(\"sentiment-analysis\",\n",
    "                    model=SENTIMENT_MODEL)"
   ]
  },
  {
   "cell_type": "code",
   "execution_count": 4,
   "metadata": {},
   "outputs": [
    {
     "data": {
      "text/plain": [
       "[{'label': 'POSITIVE', 'score': 0.9998706579208374}]"
      ]
     },
     "execution_count": 4,
     "metadata": {},
     "output_type": "execute_result"
    }
   ],
   "source": [
    "analyzer(\"I am feeling pretty good today.\")\n"
   ]
  },
  {
   "attachments": {},
   "cell_type": "markdown",
   "metadata": {},
   "source": [
    "## Mask Filling"
   ]
  },
  {
   "cell_type": "code",
   "execution_count": 5,
   "metadata": {},
   "outputs": [],
   "source": [
    "MODEL_NAME = \"distilroberta-base\""
   ]
  },
  {
   "cell_type": "code",
   "execution_count": 6,
   "metadata": {},
   "outputs": [],
   "source": [
    "unmasker = pipeline(\"fill-mask\", \n",
    "                    model=MODEL_NAME)"
   ]
  },
  {
   "cell_type": "code",
   "execution_count": 7,
   "metadata": {},
   "outputs": [
    {
     "data": {
      "text/plain": [
       "[{'score': 0.46132025122642517,\n",
       "  'token': 37,\n",
       "  'token_str': ' he',\n",
       "  'sequence': 'Because this doctor is very capable, he can easily do this operation successfully'},\n",
       " {'score': 0.13835187256336212,\n",
       "  'token': 52,\n",
       "  'token_str': ' we',\n",
       "  'sequence': 'Because this doctor is very capable, we can easily do this operation successfully'},\n",
       " {'score': 0.09921150654554367,\n",
       "  'token': 51,\n",
       "  'token_str': ' they',\n",
       "  'sequence': 'Because this doctor is very capable, they can easily do this operation successfully'},\n",
       " {'score': 0.08804752677679062,\n",
       "  'token': 25705,\n",
       "  'token_str': ' surgeons',\n",
       "  'sequence': 'Because this doctor is very capable, surgeons can easily do this operation successfully'},\n",
       " {'score': 0.055709321051836014,\n",
       "  'token': 79,\n",
       "  'token_str': ' she',\n",
       "  'sequence': 'Because this doctor is very capable, she can easily do this operation successfully'}]"
      ]
     },
     "execution_count": 7,
     "metadata": {},
     "output_type": "execute_result"
    }
   ],
   "source": [
    "unmasker(\"Because this doctor is very capable, <mask> can easily do this operation successfully\")"
   ]
  },
  {
   "cell_type": "code",
   "execution_count": 8,
   "metadata": {},
   "outputs": [
    {
     "data": {
      "text/plain": [
       "[{'score': 0.6447421312332153,\n",
       "  'token': 79,\n",
       "  'token_str': ' she',\n",
       "  'sequence': 'Because this nurse is very capable, she can easily take care of this patient successfully'},\n",
       " {'score': 0.0769108459353447,\n",
       "  'token': 52,\n",
       "  'token_str': ' we',\n",
       "  'sequence': 'Because this nurse is very capable, we can easily take care of this patient successfully'},\n",
       " {'score': 0.049629438668489456,\n",
       "  'token': 51,\n",
       "  'token_str': ' they',\n",
       "  'sequence': 'Because this nurse is very capable, they can easily take care of this patient successfully'},\n",
       " {'score': 0.04222416877746582,\n",
       "  'token': 3333,\n",
       "  'token_str': ' doctors',\n",
       "  'sequence': 'Because this nurse is very capable, doctors can easily take care of this patient successfully'},\n",
       " {'score': 0.03270166739821434,\n",
       "  'token': 37,\n",
       "  'token_str': ' he',\n",
       "  'sequence': 'Because this nurse is very capable, he can easily take care of this patient successfully'}]"
      ]
     },
     "execution_count": 8,
     "metadata": {},
     "output_type": "execute_result"
    }
   ],
   "source": [
    "unmasker(\"Because this nurse is very capable, <mask> can easily take care of this patient successfully\")"
   ]
  }
 ],
 "metadata": {
  "kernelspec": {
   "display_name": "asdrp",
   "language": "python",
   "name": "python3"
  },
  "language_info": {
   "codemirror_mode": {
    "name": "ipython",
    "version": 3
   },
   "file_extension": ".py",
   "mimetype": "text/x-python",
   "name": "python",
   "nbconvert_exporter": "python",
   "pygments_lexer": "ipython3",
   "version": "3.9.16"
  },
  "orig_nbformat": 4
 },
 "nbformat": 4,
 "nbformat_minor": 2
}
